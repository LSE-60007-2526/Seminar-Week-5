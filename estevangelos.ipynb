{
 "cells": [
  {
   "cell_type": "code",
   "execution_count": 5,
   "id": "86ee1efb",
   "metadata": {},
   "outputs": [
    {
     "name": "stdout",
     "output_type": "stream",
     "text": [
      "Alice Brown\n"
     ]
    }
   ],
   "source": [
    "# Exercise 1: Work with the person next to you to design \n",
    "# classes to manage the products, customers, and purchase \n",
    "# orders for an online book store such as amazon.com. \n",
    "# Outline the data attributes and useful methods for each\n",
    "# class. You can discuss and create the outline together. \n",
    "\n",
    "\n",
    "class Customer:\n",
    "    def __init__(self, customer_id, name, email, address):\n",
    "        self.customer_id = customer_id\n",
    "        self.name = name\n",
    "        self.email = email\n",
    "        self.address = address\n",
    "\n",
    "\n",
    "customer1 = Customer(1, \"Alice Brown\", \"alice@example.com\", \"123 Main St\")\n",
    "\n",
    "print(customer1.name) \n"
   ]
  },
  {
   "cell_type": "code",
   "execution_count": 2,
   "id": "b76222e9",
   "metadata": {},
   "outputs": [
    {
     "name": "stdout",
     "output_type": "stream",
     "text": [
      "1.5\n"
     ]
    }
   ],
   "source": [
    "def esteban(func, tion):\n",
    "    num = func / tion\n",
    "    print(num)\n",
    "\n",
    "esteban(6,4)"
   ]
  },
  {
   "cell_type": "code",
   "execution_count": null,
   "id": "0ac56d83",
   "metadata": {},
   "outputs": [],
   "source": [
    "# Exercise 2: Create a new repository in your account and upload \n",
    "# the class hierarchy you created. Add your partner as collaborator\n",
    "# (Settings -> Collaborators and teams -> Add people).\n",
    "# Practice cloning locally, creating a branch, making changes in the branch, \n",
    "# opening a pull request, commenting, and merging the pull request. \n",
    "\n"
   ]
  },
  {
   "cell_type": "code",
   "execution_count": null,
   "id": "2606590d",
   "metadata": {},
   "outputs": [],
   "source": [
    "# Exercise 3: Open a new issue in your partner's repository. "
   ]
  }
 ],
 "metadata": {
  "kernelspec": {
   "display_name": "base",
   "language": "python",
   "name": "python3"
  },
  "language_info": {
   "codemirror_mode": {
    "name": "ipython",
    "version": 3
   },
   "file_extension": ".py",
   "mimetype": "text/x-python",
   "name": "python",
   "nbconvert_exporter": "python",
   "pygments_lexer": "ipython3",
   "version": "3.13.5"
  }
 },
 "nbformat": 4,
 "nbformat_minor": 5
}
