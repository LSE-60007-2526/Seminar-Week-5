{
 "cells": [
  {
   "cell_type": "code",
   "execution_count": null,
   "id": "86ee1efb",
   "metadata": {},
   "outputs": [],
   "source": [
    "# Exercise 1: Work with the person next to you to design \n",
    "# classes to manage the products, customers, and purchase \n",
    "# orders for an online book store such as amazon.com. \n",
    "# Outline the data attributes and useful methods for each\n",
    "# class. You can discuss and create the outline together. "
   ]
  },
  {
   "cell_type": "code",
   "execution_count": null,
   "id": "0ac56d83",
   "metadata": {},
   "outputs": [],
   "source": [
    "# Exercise 2: Create a new repository in your account and upload \n",
    "# the class hierarchy you created. Add your partner as collaborator\n",
    "# (Settings -> Collaborators and teams -> Add people).\n",
    "# Practice cloning locally, creating a branch, making changes in the branch, \n",
    "# opening a pull request, commenting, and merging the pull request. "
   ]
  },
  {
   "cell_type": "code",
   "execution_count": null,
   "id": "2606590d",
   "metadata": {},
   "outputs": [],
   "source": [
    "# Exercise 3: Open a new issue in your partner's repository. "
   ]
  }
 ],
 "metadata": {
  "language_info": {
   "name": "python"
  }
 },
 "nbformat": 4,
 "nbformat_minor": 5
}
